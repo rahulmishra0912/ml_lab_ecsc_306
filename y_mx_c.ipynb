{
 "cells": [
  {
   "cell_type": "code",
   "execution_count": 4,
   "metadata": {},
   "outputs": [
    {
     "name": "stdout",
     "output_type": "stream",
     "text": [
      "mean of x:\n",
      "2.66667\n",
      "mean of y:\n",
      "2.0\n",
      "variance of x:\n",
      "1.55556\n",
      "variance of y:\n",
      "0.666667\n"
     ]
    }
   ],
   "source": [
    "import tensorflow as tf\n",
    "\n",
    "x = tf.constant([[1.0],[3.0],[4.0]],name = \"x\")\n",
    "y = tf.constant([[1.0],[2.0],[3.0]],name = \"y\")\n",
    "c = tf.constant([[5.0],[10.0],[5.0]],name = \"c\")\n",
    "\n",
    "with tf.name_scope(\"Mean_of_x_and_y_respectively\"):\n",
    "    with tf.name_scope(\"Mean_of_x\"):\n",
    "        x_mean=tf.reduce_mean(x)\n",
    "    with tf.name_scope(\"Mean_of_y\"):\n",
    "        y_mean=tf.reduce_mean(y)\n",
    "        \n",
    "#sq_mean_x = tf.multiply(x_mean,x_mean)\n",
    "var_x = tf.reduce_mean(tf.square(x-x_mean))\n",
    "var_y = tf.reduce_mean(tf.square(y-y_mean))\n",
    "\n",
    "with tf.Session() as session:\n",
    "    print(\"mean of x:\")\n",
    "    print(session.run(x_mean))\n",
    "    print(\"mean of y:\")\n",
    "    print(session.run(y_mean))\n",
    "    print(\"variance of x:\")\n",
    "    print(session.run(var_x))\n",
    "    print(\"variance of y:\")\n",
    "    print(session.run(var_y))\n",
    "    "
   ]
  },
  {
   "cell_type": "code",
   "execution_count": 5,
   "metadata": {},
   "outputs": [
    {
     "name": "stdout",
     "output_type": "stream",
     "text": [
      "Coveriance of x and y:\n",
      "0.5\n"
     ]
    }
   ],
   "source": [
    "count=tf.to_float(tf.subtract(tf.count_nonzero(x),1))\n",
    "cov = tf.divide(tf.reduce_mean((x-x_mean)*(y-y_mean)),count)\n",
    "with tf.Session() as session:\n",
    "    print(\"Coveriance of x and y:\")\n",
    "    print(session.run(cov))"
   ]
  },
  {
   "cell_type": "code",
   "execution_count": 6,
   "metadata": {},
   "outputs": [
    {
     "name": "stdout",
     "output_type": "stream",
     "text": [
      "m:\n",
      "0.321429\n"
     ]
    }
   ],
   "source": [
    "m=tf.divide(cov,var_x)\n",
    "with tf.Session() as session:\n",
    "    print(\"m:\")\n",
    "    print(session.run(m))"
   ]
  },
  {
   "cell_type": "code",
   "execution_count": 7,
   "metadata": {},
   "outputs": [
    {
     "name": "stdout",
     "output_type": "stream",
     "text": [
      "c:\n",
      "1.14286\n"
     ]
    }
   ],
   "source": [
    "c=y_mean-m*x_mean\n",
    "with tf.Session() as session:\n",
    "    print(\"c:\")\n",
    "    print(session.run(c))"
   ]
  },
  {
   "cell_type": "code",
   "execution_count": 8,
   "metadata": {},
   "outputs": [
    {
     "data": {
      "image/png": "[encoded data removed]",
      "text/plain": [
       "<matplotlib.figure.Figure at 0x2337dbd00b8>"
      ]
     },
     "metadata": {},
     "output_type": "display_data"
    }
   ],
   "source": [
    "import matplotlib.pyplot as plt\n",
    "y1 = tf.add(tf.multiply(m,x),c)\n",
    "with tf.Session() as sess:\n",
    "    plt.plot(sess.run(y1))\n",
    "    plt.plot(sess.run(x),sess.run(y),\"ro\")\n",
    "    plt.show()"
   ]
  },
  {
   "cell_type": "code",
   "execution_count": 9,
   "metadata": {},
   "outputs": [
    {
     "name": "stdout",
     "output_type": "stream",
     "text": [
      "0.816497\n"
     ]
    }
   ],
   "source": [
    "r=tf.sqrt(tf.reduce_mean(tf.squared_difference(x,y)))\n",
    "with tf.Session() as session:\n",
    "    print(session.run(r))"
   ]
  },
  {
   "cell_type": "code",
   "execution_count": null,
   "metadata": {
    "collapsed": true
   },
   "outputs": [],
   "source": []
  }
 ],
 "metadata": {
  "kernelspec": {
   "display_name": "Python 3",
   "language": "python",
   "name": "python3"
  },
  "language_info": {
   "codemirror_mode": {
    "name": "ipython",
    "version": 3
   },
   "file_extension": ".py",
   "mimetype": "text/x-python",
   "name": "python",
   "nbconvert_exporter": "python",
   "pygments_lexer": "ipython3",
   "version": "3.6.1"
  }
 },
 "nbformat": 4,
 "nbformat_minor": 2
}

{
 "cells": [
  {
   "cell_type": "code",
   "execution_count": 2,
   "metadata": {},
   "outputs": [
    {
     "ename": "SyntaxError",
     "evalue": "invalid syntax (<ipython-input-2-cb27830b56b8>, line 6)",
     "output_type": "error",
     "traceback": [
      "\u001b[0;36m  File \u001b[0;32m\"<ipython-input-2-cb27830b56b8>\"\u001b[0;36m, line \u001b[0;32m6\u001b[0m\n\u001b[0;31m    with tf.name_scope(\"y_mx_c\")\u001b[0m\n\u001b[0m                                ^\u001b[0m\n\u001b[0;31mSyntaxError\u001b[0m\u001b[0;31m:\u001b[0m invalid syntax\n"
     ]
    }
   ],
   "source": [
    "import tensorflow as tf\n",
    "m = tf.constant(6,name=\"m\")\n",
    "x = tf.constant(4,name=\"x\")\n",
    "c = tf.constant(2,name=\"c\")\n",
    "\n",
    "with tf.name_scope(\"y_mx_c\")\n",
    "mx = tf.multiply(m,x)\n",
    "y=tf.add(mx,c)\n",
    "print(y)"
   ]
  },
  {
   "cell_type": "code",
   "execution_count": 58,
   "metadata": {},
   "outputs": [
    {
     "name": "stdout",
     "output_type": "stream",
     "text": [
      "mean of x:\n",
      "1.0\n",
      "mean of y:\n",
      "2.0\n",
      "variance of x:\n",
      "0.0\n",
      "variance of y:\n",
      "0.666667\n"
     ]
    }
   ],
   "source": [
    "import tensorflow as tf\n",
    "\n",
    "x = tf.constant([[1.0],[1.0],[1.0]],name = \"x\")\n",
    "y = tf.constant([[1.0],[2.0],[3.0]],name = \"y\")\n",
    "c = tf.constant([[5.0],[10.0],[5.0]],name = \"c\")\n",
    "\n",
    "with tf.name_scope(\"Mean_of_x_and_y_respectively\"):\n",
    "    with tf.name_scope(\"Mean_of_x\"):\n",
    "        x_mean=tf.reduce_mean(x)\n",
    "    with tf.name_scope(\"Mean_of_y\"):\n",
    "        y_mean=tf.reduce_mean(y)\n",
    "        \n",
    "#sq_mean_x = tf.multiply(x_mean,x_mean)\n",
    "var_x = tf.reduce_mean(tf.square(x-x_mean))\n",
    "var_y = tf.reduce_mean(tf.square(y-y_mean))\n",
    "\n",
    "with tf.Session() as session:\n",
    "    print(\"mean of x:\")\n",
    "    print(session.run(x_mean))\n",
    "    print(\"mean of y:\")\n",
    "    print(session.run(y_mean))\n",
    "    print(\"variance of x:\")\n",
    "    print(session.run(var_x))\n",
    "    print(\"variance of y:\")\n",
    "    print(session.run(var_y))\n",
    "    "
   ]
  },
  {
   "cell_type": "code",
   "execution_count": 61,
   "metadata": {},
   "outputs": [
    {
     "name": "stdout",
     "output_type": "stream",
     "text": [
      "Tensor(\"count_nonzero/Sum:0\", shape=(), dtype=int64)\n"
     ]
    }
   ],
   "source": [
    "count_x=tf.count_nonzero(x)\n",
    "cov_x=tf.reduce_sum(x-x_mean*y-y_mean)\n",
    "with tf.Session() as session:\n",
    "    print(count_x)"
   ]
  },
  {
   "cell_type": "code",
   "execution_count": null,
   "metadata": {
    "collapsed": true
   },
   "outputs": [],
   "source": []
  }
 ],
 "metadata": {
  "kernelspec": {
   "display_name": "Python 3",
   "language": "python",
   "name": "python3"
  },
  "language_info": {
   "codemirror_mode": {
    "name": "ipython",
    "version": 3
   },
   "file_extension": ".py",
   "mimetype": "text/x-python",
   "name": "python",
   "nbconvert_exporter": "python",
   "pygments_lexer": "ipython3",
   "version": "3.6.1"
  }
 },
 "nbformat": 4,
 "nbformat_minor": 2
}

{
 "cells": [
  {
   "cell_type": "code",
   "execution_count": 1,
   "metadata": {},
   "outputs": [
    {
     "name": "stdout",
     "output_type": "stream",
     "text": [
      "Validating output for AND GATE\n",
      "[[ 0.00475592]\n",
      " [ 0.12880847]\n",
      " [ 0.12715006]\n",
      " [ 0.81841826]]\n"
     ]
    }
   ],
   "source": [
    "import tensorflow as tf\n",
    "import numpy as np\n",
    "x=tf.placeholder(tf.float32,shape=[None,2])\n",
    "y=tf.placeholder(tf.float32,shape=[None,1])\n",
    "\n",
    "weights=tf.Variable(tf.random_normal([2,1]),dtype=tf.float32)\n",
    "bias=tf.Variable(tf.random_normal([1]),dtype=tf.float32)\n",
    "\n",
    "\n",
    "\n",
    "multiply1=tf.add(tf.matmul(x,weights),bias)\n",
    "z=tf.nn.sigmoid(multiply1)\n",
    "\n",
    "\n",
    "cost=tf.reduce_mean((y*tf.log(z)+(1-y)*tf.log(1-z))*-1)\n",
    "optimizer = tf.train.GradientDescentOptimizer(0.01).minimize(cost)\n",
    "\n",
    "inp=np.array([[0,0],[0,1],[1,0],[1,1]])\n",
    "\n",
    "\n",
    "with tf.Session() as sess_and:\n",
    "    op_and=np.array([[0],[0],[0],[1]])\n",
    "    \n",
    "    tf.global_variables_initializer().run()\n",
    "    for i in range(12001):\n",
    "        res,_=sess_and.run([cost,optimizer],feed_dict={x:inp,y:op_and})\n",
    "        \n",
    "    print (\"Validating output for AND GATE\")\n",
    "    result_and=sess_and.run(z,feed_dict={x:inp})\n",
    "    print (result_and)"
   ]
  },
  {
   "cell_type": "code",
   "execution_count": 9,
   "metadata": {},
   "outputs": [
    {
     "name": "stdout",
     "output_type": "stream",
     "text": [
      "Validating output for NOT(X1) AND NOT(X2) GATE\n"
     ]
    }
   ],
   "source": [
    "with tf.Session() as sess_not:\n",
    "    op_not=np.array([[1],[0],[0],[0]])\n",
    "    \n",
    "    tf.global_variables_initializer().run()\n",
    "    for i in range(12001):\n",
    "        res,_=sess_not.run([cost,optimizer],feed_dict={x:inp,y:op_not})\n",
    "        \n",
    "    print (\"Validating output for NOT(X1) AND NOT(X2) GATE\")\n",
    "    result_not=sess_not.run(z,feed_dict={x:inp})\n",
    "    "
   ]
  },
  {
   "cell_type": "code",
   "execution_count": 10,
   "metadata": {},
   "outputs": [
    {
     "name": "stdout",
     "output_type": "stream",
     "text": [
      "[[ 0.83450651]\n",
      " [ 0.06594945]\n",
      " [ 0.06323975]\n",
      " [ 0.00094437]]\n"
     ]
    }
   ],
   "source": [
    "print(result_not)"
   ]
  },
  {
   "cell_type": "code",
   "execution_count": 11,
   "metadata": {},
   "outputs": [
    {
     "name": "stdout",
     "output_type": "stream",
     "text": [
      "[[ 0.]\n",
      " [ 0.]\n",
      " [ 0.]\n",
      " [ 1.]]\n"
     ]
    }
   ],
   "source": [
    "print(result_and)"
   ]
  },
  {
   "cell_type": "code",
   "execution_count": 12,
   "metadata": {},
   "outputs": [
    {
     "name": "stdout",
     "output_type": "stream",
     "text": [
      "[[ 0.]\n",
      " [ 0.]\n",
      " [ 0.]\n",
      " [ 1.]]\n"
     ]
    }
   ],
   "source": [
    "for i in range(4):\n",
    "    if result_and[i] < 0.5:\n",
    "        result_and[i] = 0\n",
    "    else:\n",
    "        result_and[i] = 1\n",
    "        \n",
    "print(result_and)"
   ]
  },
  {
   "cell_type": "code",
   "execution_count": 13,
   "metadata": {},
   "outputs": [
    {
     "name": "stdout",
     "output_type": "stream",
     "text": [
      "[[ 1.]\n",
      " [ 0.]\n",
      " [ 0.]\n",
      " [ 0.]]\n"
     ]
    }
   ],
   "source": [
    "for i in range(4):\n",
    "    if result_not[i] < 0.5:\n",
    "        result_not[i] = 0\n",
    "    else:\n",
    "        result_not[i] = 1\n",
    "        \n",
    "print(result_not)"
   ]
  },
  {
   "cell_type": "code",
   "execution_count": 14,
   "metadata": {},
   "outputs": [
    {
     "name": "stdout",
     "output_type": "stream",
     "text": [
      "[[ 0.  1.]\n",
      " [ 0.  0.]\n",
      " [ 0.  0.]\n",
      " [ 1.  0.]]\n"
     ]
    }
   ],
   "source": [
    "inp_new = np.concatenate([result_and,result_not],axis = 1)\n",
    "print(inp_new)"
   ]
  },
  {
   "cell_type": "code",
   "execution_count": 15,
   "metadata": {},
   "outputs": [
    {
     "name": "stdout",
     "output_type": "stream",
     "text": [
      "Validating output for AND GATE\n",
      "[[ 0.93136489]\n",
      " [ 0.08625742]\n",
      " [ 0.08625742]\n",
      " [ 0.93091571]]\n"
     ]
    }
   ],
   "source": [
    "with tf.Session() as sess_or:\n",
    "    op_or=np.array([[1],[0],[0],[1]])\n",
    "    \n",
    "    tf.global_variables_initializer().run()\n",
    "    for i in range(12001):\n",
    "        res,_=sess_or.run([cost,optimizer],feed_dict={x:inp_new,y:op_or})\n",
    "        \n",
    "    print (\"Validating output for AND GATE\")\n",
    "    result_or=sess_or.run(z,feed_dict={x:inp_new})\n",
    "    print (result_or)"
   ]
  },
  {
   "cell_type": "code",
   "execution_count": null,
   "metadata": {
    "collapsed": true
   },
   "outputs": [],
   "source": []
  }
 ],
 "metadata": {
  "kernelspec": {
   "display_name": "Python 3",
   "language": "python",
   "name": "python3"
  },
  "language_info": {
   "codemirror_mode": {
    "name": "ipython",
    "version": 3
   },
   "file_extension": ".py",
   "mimetype": "text/x-python",
   "name": "python",
   "nbconvert_exporter": "python",
   "pygments_lexer": "ipython3",
   "version": "3.5.4"
  }
 },
 "nbformat": 4,
 "nbformat_minor": 2
}

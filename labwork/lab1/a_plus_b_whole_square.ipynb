{
 "cells": [
  {
   "cell_type": "code",
   "execution_count": 2,
   "metadata": {},
   "outputs": [
    {
     "name": "stdout",
     "output_type": "stream",
     "text": [
      "25\n"
     ]
    }
   ],
   "source": [
    "import tensorflow as tf\n",
    "\n",
    "tf.reset_default_graph()\n",
    "\n",
    "with tf.name_scope(\"a_plus_b_whole_sq\"):\n",
    "    a = tf.constant(2,name = \"a\")\n",
    "\n",
    "    b = tf.constant(3,name = \"b\")\n",
    "\n",
    "    c = tf.multiply(2,tf.multiply(a,b),name=\"2ab\")\n",
    "    \n",
    "    b = tf.multiply(b,b,name=\"b2\")\n",
    "    a = tf.multiply(a,a,name=\"a2\")\n",
    "\n",
    "    d = tf.add(a,tf.add(b,c),name=\"__result__\")\n",
    "\n",
    "sess = tf.Session()\n",
    "writer = tf.summary.FileWriter(\"/tmp/tboard/output\", sess.graph)\n",
    "print(sess.run(d))\n",
    "sess.close()"
   ]
  },
  {
   "cell_type": "code",
   "execution_count": null,
   "metadata": {
    "collapsed": true
   },
   "outputs": [],
   "source": []
  }
 ],
 "metadata": {
  "kernelspec": {
   "display_name": "Python 3",
   "language": "python",
   "name": "python3"
  },
  "language_info": {
   "codemirror_mode": {
    "name": "ipython",
    "version": 3
   },
   "file_extension": ".py",
   "mimetype": "text/x-python",
   "name": "python",
   "nbconvert_exporter": "python",
   "pygments_lexer": "ipython3",
   "version": "3.5.3"
  }
 },
 "nbformat": 4,
 "nbformat_minor": 2
}

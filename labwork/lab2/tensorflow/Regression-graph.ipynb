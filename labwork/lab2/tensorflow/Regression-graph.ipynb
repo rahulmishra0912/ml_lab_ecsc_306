{
 "cells": [
  {
   "cell_type": "code",
   "execution_count": 5,
   "metadata": {
    "collapsed": true
   },
   "outputs": [],
   "source": [
    "import tensorflow as tf\n",
    "import matplotlib.pyplot as plt\n",
    "import numpy\n",
    "td = tf.constant([[1, 1], [2, 3], [4, 3], [3, 2], [5, 5]])\n",
    "learning_rate = 0.01\n",
    "training_epochs = 1000\n",
    "display_step = 50\n",
    "train_X = []\n",
    "train_Y = []\n",
    "\n",
    "n = tf.to_float(tf.count_nonzero(td)/2)"
   ]
  },
  {
   "cell_type": "code",
   "execution_count": 7,
   "metadata": {},
   "outputs": [
    {
     "name": "stdout",
     "output_type": "stream",
     "text": [
      "[1, 3, 3, 2, 5]\n",
      "[1, 3, 3, 2, 5]\n"
     ]
    }
   ],
   "source": [
    "with tf.Session() as sess:\n",
    "    for i in range(int(sess.run(n))):\n",
    "        train_X.append(td[i][0])\n",
    "        train_Y.append(td[i][1])\n",
    "    print(sess.run(train_Y))\n",
    "    print(sess.run(train_Y))"
   ]
  },
  {
   "cell_type": "code",
   "execution_count": 8,
   "metadata": {
    "collapsed": true
   },
   "outputs": [],
   "source": [
    "# tf Graph Input\n",
    "X = tf.placeholder(\"float\")\n",
    "Y = tf.placeholder(\"float\")\n",
    "\n",
    "# Set model weights\n",
    "W= tf.Variable(tf.random_uniform([5], 0, 10, dtype=tf.float32, seed=0))\n",
    "b= tf.Variable(tf.random_uniform([5], 0, 10, dtype=tf.float32, seed=0))"
   ]
  },
  {
   "cell_type": "code",
   "execution_count": 9,
   "metadata": {
    "collapsed": true
   },
   "outputs": [],
   "source": [
    "# Construct a linear model\n",
    "pred = tf.add(tf.multiply(X, W), b)"
   ]
  },
  {
   "cell_type": "code",
   "execution_count": 10,
   "metadata": {
    "collapsed": true
   },
   "outputs": [],
   "source": [
    "# Mean squared error\n",
    "cost = tf.reduce_sum(tf.pow(pred-Y, 2))/(2*n)\n",
    "# Gradient descent\n",
    "optimizer = tf.train.GradientDescentOptimizer(learning_rate).minimize(cost)"
   ]
  },
  {
   "cell_type": "code",
   "execution_count": 11,
   "metadata": {
    "collapsed": true
   },
   "outputs": [],
   "source": [
    "init = tf.global_variables_initializer()"
   ]
  },
  {
   "cell_type": "code",
   "execution_count": 12,
   "metadata": {},
   "outputs": [
    {
     "name": "stdout",
     "output_type": "stream",
     "text": [
      "Epoch: 0050 cost= 0.434368134 W= [ 0.67450523 -0.76311493 -0.56234425  0.76146215  0.76106232] b= [ 0.86959982  6.22544289  5.47747374  0.54564255  0.54713166]\n",
      "Epoch: 0100 cost= 0.342385501 W= [ 0.68436414 -0.65866661 -0.47110593  0.76559973  0.76522595] b= [ 0.83025837  5.74273443  5.05668354  0.53311855  0.53448486]\n",
      "Epoch: 0150 cost= 0.287668467 W= [ 0.69418234 -0.53931332 -0.3670494   0.76879233  0.76844931] b= [ 0.79433942  5.3059473   4.67587852  0.5214476   0.52270216]\n",
      "Epoch: 0200 cost= 0.244712263 W= [ 0.703201   -0.42964324 -0.27143526  0.77172279  0.77140796] b= [ 0.76135272  4.90482092  4.32616329  0.51072836  0.51188058]\n",
      "Epoch: 0250 cost= 0.211376667 W= [ 0.7114839  -0.32892194 -0.18362284  0.77441454  0.7741251 ] b= [ 0.73105735  4.53642368  4.00498056  0.50088346  0.50194198]\n",
      "Epoch: 0300 cost= 0.185919911 W= [ 0.71909094 -0.23641856 -0.10297652  0.7768864   0.77662057] b= [ 0.70323408  4.19808626  3.71001077  0.49184245  0.49281448]\n",
      "Epoch: 0350 cost= 0.166891098 W= [ 0.72607702 -0.15146358 -0.0289107   0.77915657  0.7789126 ] b= [ 0.67768174  3.8873558   3.43910933  0.48353922  0.4844318 ]\n",
      "Epoch: 0400 cost= 0.153085291 W= [ 0.7324931  -0.07344076  0.03911194  0.78124154  0.78101742] b= [ 0.65421444  3.60198092  3.19031096  0.47591358  0.47673318]\n",
      "Epoch: 0450 cost= 0.143501312 W= [ 0.73838568 -0.00178498  0.10158354  0.78315639  0.78295058] b= [ 0.63266176  3.33989453  2.96181583  0.46890983  0.46966252]\n",
      "Epoch: 0500 cost= 0.137310266 W= [ 0.74379754  0.06402429  0.15895756  0.78491491  0.78472602] b= [ 0.61286759  3.09919167  2.75196624  0.46247789  0.46316871]\n",
      "Epoch: 0550 cost= 0.133826584 W= [ 0.74876779  0.12446319  0.21165012  0.7865299   0.78635657] b= [ 0.59468901  2.87813163  2.55923915  0.45657066  0.457205  ]\n",
      "Epoch: 0600 cost= 0.132484600 W= [ 0.7533325   0.17996979  0.2600427   0.78801328  0.78785396] b= [ 0.57799309  2.67511201  2.38223934  0.45114538  0.45172799]\n",
      "Epoch: 0650 cost= 0.132818818 W= [ 0.75752467  0.23094751  0.3044866   0.78937554  0.78922909] b= [ 0.56265962  2.488657    2.21968222  0.44616288  0.44669807]\n",
      "Epoch: 0700 cost= 0.134447098 W= [ 0.76137477  0.27776584  0.34530404  0.79062659  0.79049212] b= [ 0.54857725  2.31741571  2.07038903  0.44158673  0.4420785 ]\n",
      "Epoch: 0750 cost= 0.137057066 W= [ 0.76491076  0.32076374  0.38279113  0.7917757   0.79165232] b= [ 0.53564459  2.16014695  1.93327701  0.43738419  0.43783569]\n",
      "Epoch: 0800 cost= 0.140394256 W= [ 0.7681582   0.36025327  0.41721898  0.79283088  0.79271752] b= [ 0.5237667   2.01571083  1.80735469  0.43352443  0.4339394 ]\n",
      "Epoch: 0850 cost= 0.144252151 W= [ 0.77114052  0.39652035  0.44883755  0.79380018  0.79369575] b= [ 0.51285833  1.88306165  1.69170702  0.42997962  0.43036076]\n",
      "Epoch: 0900 cost= 0.148463845 W= [ 0.77387971  0.42982811  0.47787589  0.79469013  0.79459447] b= [ 0.50283992  1.76123571  1.58549702  0.42672411  0.42707419]\n",
      "Epoch: 0950 cost= 0.152896002 W= [ 0.7763952   0.46041811  0.50454515  0.79550749  0.79541981] b= [ 0.49363917  1.64935064  1.48795247  0.42373404  0.42405576]\n",
      "Epoch: 1000 cost= 0.157442540 W= [ 0.77870536  0.48851171  0.52903801  0.79625833  0.79617757] b= [ 0.48518953  1.54659581  1.398368    0.42098832  0.42128366]\n",
      "Optimization Finished!\n",
      "Training cost= 0.157443 W= [ 0.77870536  0.48851171  0.52903801  0.79625833  0.79617757] b= [ 0.48518953  1.54659581  1.398368    0.42098832  0.42128366] \n",
      "\n"
     ]
    },
    {
     "data": {
      "image/png": "[encoded data removed]",
      "text/plain": [
       "<matplotlib.figure.Figure at 0x127e0d3fc18>"
      ]
     },
     "metadata": {},
     "output_type": "display_data"
    }
   ],
   "source": [
    "# Launch the graph\n",
    "with tf.Session() as sess:\n",
    "    sess.run(init)\n",
    "\n",
    "    # Fit all training data\n",
    "    for epoch in range(training_epochs):\n",
    "        for (x, y) in zip(train_X, train_Y):\n",
    "            sess.run(optimizer, feed_dict={X: sess.run(x), Y: sess.run(y)})\n",
    "\n",
    "        #Display logs per epoch step\n",
    "        if (epoch+1) % display_step == 0:\n",
    "            c = sess.run(cost, feed_dict={X: sess.run(train_X), Y:sess.run(train_Y)})\n",
    "            print (\"Epoch:\", '%04d' % (epoch+1), \"cost=\", \"{:.9f}\".format(c), \\\n",
    "                \"W=\", sess.run(W), \"b=\", sess.run(b))\n",
    "\n",
    "    print (\"Optimization Finished!\")\n",
    "    training_cost = sess.run(cost, feed_dict={X: sess.run(train_X), Y: sess.run(train_Y)})\n",
    "    print (\"Training cost=\", training_cost, \"W=\", sess.run(W), \"b=\", sess.run(b), '\\n')\n",
    "\n",
    "    #Graphic display\n",
    "    plt.plot(sess.run(train_X), sess.run(train_Y), 'ro', label='Original data')\n",
    "    plt.plot(sess.run(train_X), sess.run(W) * sess.run(train_X) + sess.run(b), label='Fitted line')\n",
    "    plt.legend()\n",
    "    plt.show()"
   ]
  },
  {
   "cell_type": "code",
   "execution_count": null,
   "metadata": {
    "collapsed": true
   },
   "outputs": [],
   "source": []
  }
 ],
 "metadata": {
  "kernelspec": {
   "display_name": "Python 3",
   "language": "python",
   "name": "python3"
  },
  "language_info": {
   "codemirror_mode": {
    "name": "ipython",
    "version": 3
   },
   "file_extension": ".py",
   "mimetype": "text/x-python",
   "name": "python",
   "nbconvert_exporter": "python",
   "pygments_lexer": "ipython3",
   "version": "3.5.4"
  }
 },
 "nbformat": 4,
 "nbformat_minor": 2
}
